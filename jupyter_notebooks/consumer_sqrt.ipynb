{
 "cells": [
  {
   "cell_type": "code",
   "execution_count": 1,
   "id": "65d82314-8ce3-463a-b8a7-9cf19b899f9b",
   "metadata": {},
   "outputs": [],
   "source": [
    "from confluent_kafka import Consumer, KafkaError\n",
    "from confluent_kafka.schema_registry import SchemaRegistryClient\n",
    "from confluent_kafka.schema_registry.protobuf import ProtobufDeserializer\n",
    "from confluent_kafka.serialization import SerializationContext, MessageField\n",
    "import my_event_pb2\n",
    "import math"
   ]
  },
  {
   "cell_type": "code",
   "execution_count": 2,
   "id": "d49c2890-2594-4e26-876d-43c9df45fd9c",
   "metadata": {},
   "outputs": [],
   "source": [
    "def calculate_sqrt(value):\n",
    "    return math.sqrt(value)"
   ]
  },
  {
   "cell_type": "code",
   "execution_count": 3,
   "id": "3206325c-367b-4f5c-acab-eac506ea3c99",
   "metadata": {},
   "outputs": [
    {
     "name": "stderr",
     "output_type": "stream",
     "text": [
      "/opt/conda/lib/python3.11/site-packages/confluent_kafka/schema_registry/protobuf.py:513: UserWarning: MessageFactory class is deprecated. Please use GetMessageClass() instead of MessageFactory.GetPrototype. MessageFactory class will be removed after 2024.\n",
      "  self._msg_class = MessageFactory().GetPrototype(descriptor)\n"
     ]
    }
   ],
   "source": [
    "schema_registry_conf = {'url': 'http://schema-registry:8081'}\n",
    "schema_registry_client = SchemaRegistryClient(schema_registry_conf)\n",
    "\n",
    "deserializer_conf = {'use.deprecated.format': False}\n",
    "protobuf_deserializer = ProtobufDeserializer(my_event_pb2.MyEvent, deserializer_conf)"
   ]
  },
  {
   "cell_type": "code",
   "execution_count": 4,
   "id": "ccd73bc3-cad6-4824-ab4c-c55e8e1b8c81",
   "metadata": {},
   "outputs": [],
   "source": [
    "c = Consumer({\n",
    "    'bootstrap.servers': 'kafka-1:29092,kafka-2:29093,kafka-3:29094',\n",
    "    'group.id': 'mygroup',\n",
    "    'auto.offset.reset': 'earliest'\n",
    "})\n",
    "\n",
    "c.subscribe(['my-topic'])"
   ]
  },
  {
   "cell_type": "code",
   "execution_count": 5,
   "id": "0298c1c6-782d-4d18-8f9e-e57a239c0cc3",
   "metadata": {},
   "outputs": [
    {
     "name": "stdout",
     "output_type": "stream",
     "text": [
      "Received event with timestamp: seconds: 1725445696\n",
      "nanos: 131127000\n",
      "\n",
      "Square Root Consumer - Number: 72, Square Root: 8.49\n",
      "\n",
      "Received event with timestamp: seconds: 1725445726\n",
      "nanos: 140629000\n",
      "\n",
      "Square Root Consumer - Number: 57, Square Root: 7.55\n",
      "\n",
      "Received event with timestamp: seconds: 1725445686\n",
      "nanos: 117672000\n",
      "\n",
      "Square Root Consumer - Number: 47, Square Root: 6.86\n",
      "\n",
      "Received event with timestamp: seconds: 1725445681\n",
      "nanos: 104474000\n",
      "\n",
      "Square Root Consumer - Number: 87, Square Root: 9.33\n",
      "\n",
      "Received event with timestamp: seconds: 1725445731\n",
      "nanos: 141542000\n",
      "\n",
      "Square Root Consumer - Number: 96, Square Root: 9.80\n",
      "\n",
      "Received event with timestamp: seconds: 1725445771\n",
      "nanos: 156304000\n",
      "\n",
      "Square Root Consumer - Number: 73, Square Root: 8.54\n",
      "\n"
     ]
    },
    {
     "ename": "KeyboardInterrupt",
     "evalue": "",
     "output_type": "error",
     "traceback": [
      "\u001b[0;31m---------------------------------------------------------------------------\u001b[0m",
      "\u001b[0;31mKeyboardInterrupt\u001b[0m                         Traceback (most recent call last)",
      "Cell \u001b[0;32mIn[5], line 2\u001b[0m\n\u001b[1;32m      1\u001b[0m \u001b[38;5;28;01mwhile\u001b[39;00m \u001b[38;5;28;01mTrue\u001b[39;00m:\n\u001b[0;32m----> 2\u001b[0m     msg \u001b[38;5;241m=\u001b[39m \u001b[43mc\u001b[49m\u001b[38;5;241;43m.\u001b[39;49m\u001b[43mpoll\u001b[49m\u001b[43m(\u001b[49m\u001b[38;5;241;43m5.0\u001b[39;49m\u001b[43m)\u001b[49m\n\u001b[1;32m      3\u001b[0m     \u001b[38;5;28;01mif\u001b[39;00m msg \u001b[38;5;129;01mis\u001b[39;00m \u001b[38;5;28;01mNone\u001b[39;00m:\n\u001b[1;32m      4\u001b[0m         \u001b[38;5;28;01mcontinue\u001b[39;00m\n",
      "\u001b[0;31mKeyboardInterrupt\u001b[0m: "
     ]
    }
   ],
   "source": [
    "while True:\n",
    "    msg = c.poll(5.0)\n",
    "    if msg is None:\n",
    "        continue\n",
    "    if msg.error():\n",
    "        if msg.error().code() == KafkaError._PARTITION_EOF:\n",
    "            continue\n",
    "        else:\n",
    "            print(msg.error())\n",
    "            break\n",
    "\n",
    "    event = protobuf_deserializer(msg.value(), SerializationContext(msg.topic(), MessageField.VALUE))\n",
    "    \n",
    "    original_value = event.value\n",
    "    calculated_value = calculate_sqrt(original_value)\n",
    "\n",
    "    print(f'Received event with timestamp: {event.timestamp}')\n",
    "    print(f'Square Root Consumer - Number: {original_value}, Square Root: {calculated_value:.2f}\\n')\n",
    "\n",
    "c.close()"
   ]
  },
  {
   "cell_type": "code",
   "execution_count": null,
   "id": "f0599f1f-adef-4e0c-af03-80c6270b432b",
   "metadata": {},
   "outputs": [],
   "source": []
  }
 ],
 "metadata": {
  "kernelspec": {
   "display_name": "Python 3 (ipykernel)",
   "language": "python",
   "name": "python3"
  },
  "language_info": {
   "codemirror_mode": {
    "name": "ipython",
    "version": 3
   },
   "file_extension": ".py",
   "mimetype": "text/x-python",
   "name": "python",
   "nbconvert_exporter": "python",
   "pygments_lexer": "ipython3",
   "version": "3.11.6"
  }
 },
 "nbformat": 4,
 "nbformat_minor": 5
}
