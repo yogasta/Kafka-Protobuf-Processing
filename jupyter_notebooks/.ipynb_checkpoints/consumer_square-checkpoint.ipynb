{
 "cells": [
  {
   "cell_type": "code",
   "execution_count": null,
   "id": "f04dec50-c34b-41ee-aa8c-27fe86314e04",
   "metadata": {},
   "outputs": [],
   "source": [
    "from confluent_kafka import Consumer, KafkaError\n",
    "from confluent_kafka.schema_registry import SchemaRegistryClient\n",
    "from confluent_kafka.schema_registry.protobuf import ProtobufDeserializer\n",
    "from confluent_kafka.serialization import SerializationContext, MessageField\n",
    "import my_event_pb2"
   ]
  },
  {
   "cell_type": "code",
   "execution_count": null,
   "id": "84dcdab9-2012-4a71-99a4-565cfe431081",
   "metadata": {},
   "outputs": [],
   "source": [
    "def calculate_square(value):\n",
    "    return value * value"
   ]
  },
  {
   "cell_type": "code",
   "execution_count": null,
   "id": "dda95cb2-fb61-41b4-8e21-ea05aed97390",
   "metadata": {},
   "outputs": [],
   "source": [
    "schema_registry_conf = {'url': 'http://schema-registry:8081'}\n",
    "schema_registry_client = SchemaRegistryClient(schema_registry_conf)\n",
    "\n",
    "deserializer_conf = {'use.deprecated.format': False}\n",
    "protobuf_deserializer = ProtobufDeserializer(my_event_pb2.MyEvent, deserializer_conf)"
   ]
  },
  {
   "cell_type": "code",
   "execution_count": null,
   "id": "b15c0e87-6261-483b-9b03-bc2e3fe25330",
   "metadata": {},
   "outputs": [],
   "source": [
    "c = Consumer({\n",
    "    'bootstrap.servers': 'kafka-1:29092,kafka-2:29093,kafka-3:29094',\n",
    "    'group.id': 'mygroup',\n",
    "    'auto.offset.reset': 'earliest'\n",
    "})\n",
    "\n",
    "c.subscribe(['my-topic'])"
   ]
  },
  {
   "cell_type": "code",
   "execution_count": null,
   "id": "4f828f44-467c-49c4-9746-df9626496b1f",
   "metadata": {},
   "outputs": [],
   "source": [
    "while True:\n",
    "    msg = c.poll(5.0)\n",
    "\n",
    "    if msg is None:\n",
    "        continue\n",
    "    if msg.error():\n",
    "        if msg.error().code() == KafkaError._PARTITION_EOF:\n",
    "            continue\n",
    "        else:\n",
    "            print(msg.error())\n",
    "            break\n",
    "\n",
    "    event = protobuf_deserializer(msg.value(), SerializationContext(msg.topic(), MessageField.VALUE))\n",
    "    \n",
    "    square = event.value * event.value\n",
    "    print(f'Received event with timestamp: {event.timestamp.seconds}')\n",
    "    print(f'Square Calculator Consumer - Original: {event.value}, Square: {square}\\n')\n",
    "\n",
    "c.close()"
   ]
  },
  {
   "cell_type": "code",
   "execution_count": null,
   "id": "1ea2f95e-93ea-45bb-90e1-2ea102e8dfc7",
   "metadata": {},
   "outputs": [],
   "source": []
  }
 ],
 "metadata": {
  "kernelspec": {
   "display_name": "Python 3 (ipykernel)",
   "language": "python",
   "name": "python3"
  },
  "language_info": {
   "codemirror_mode": {
    "name": "ipython",
    "version": 3
   },
   "file_extension": ".py",
   "mimetype": "text/x-python",
   "name": "python",
   "nbconvert_exporter": "python",
   "pygments_lexer": "ipython3",
   "version": "3.11.6"
  }
 },
 "nbformat": 4,
 "nbformat_minor": 5
}
