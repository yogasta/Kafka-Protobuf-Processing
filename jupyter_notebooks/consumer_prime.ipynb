{
 "cells": [
  {
   "cell_type": "code",
   "execution_count": 1,
   "id": "4657889d-6de4-48e2-a832-38c893212c11",
   "metadata": {},
   "outputs": [],
   "source": [
    "from confluent_kafka import Consumer, KafkaError\n",
    "from confluent_kafka.schema_registry import SchemaRegistryClient\n",
    "from confluent_kafka.schema_registry.protobuf import ProtobufDeserializer\n",
    "from confluent_kafka.serialization import SerializationContext, MessageField\n",
    "import my_event_pb2"
   ]
  },
  {
   "cell_type": "code",
   "execution_count": 2,
   "id": "784b3704-1736-471c-8acf-486593794787",
   "metadata": {},
   "outputs": [],
   "source": [
    "def is_prime(n):\n",
    "    if n < 2:\n",
    "        return False\n",
    "    for i in range(2, int(n ** 0.5) + 1):\n",
    "        if n % i == 0:\n",
    "            return False\n",
    "    return True"
   ]
  },
  {
   "cell_type": "code",
   "execution_count": 3,
   "id": "84d65e4f-44fc-461b-b71f-d6e4384c2298",
   "metadata": {},
   "outputs": [
    {
     "name": "stderr",
     "output_type": "stream",
     "text": [
      "/opt/conda/lib/python3.11/site-packages/confluent_kafka/schema_registry/protobuf.py:513: UserWarning: MessageFactory class is deprecated. Please use GetMessageClass() instead of MessageFactory.GetPrototype. MessageFactory class will be removed after 2024.\n",
      "  self._msg_class = MessageFactory().GetPrototype(descriptor)\n"
     ]
    }
   ],
   "source": [
    "schema_registry_conf = {'url': 'http://schema-registry:8081'}\n",
    "schema_registry_client = SchemaRegistryClient(schema_registry_conf)\n",
    "\n",
    "deserializer_conf = {'use.deprecated.format': False}\n",
    "protobuf_deserializer = ProtobufDeserializer(my_event_pb2.MyEvent, deserializer_conf)"
   ]
  },
  {
   "cell_type": "code",
   "execution_count": 4,
   "id": "e26fbfa1-7e98-4eba-b98a-6147d80d7957",
   "metadata": {},
   "outputs": [
    {
     "name": "stdout",
     "output_type": "stream",
     "text": [
      "Received event with timestamp: seconds: 1725445736\n",
      "nanos: 143423000\n",
      "\n",
      "Prime Checker Consumer - Original: 36, Is it Prime?: False\n",
      "\n",
      "Received event with timestamp: seconds: 1725445741\n",
      "nanos: 145617000\n",
      "\n",
      "Prime Checker Consumer - Original: 22, Is it Prime?: False\n",
      "\n",
      "Received event with timestamp: seconds: 1725445766\n",
      "nanos: 154364000\n",
      "\n",
      "Prime Checker Consumer - Original: 90, Is it Prime?: False\n",
      "\n"
     ]
    },
    {
     "ename": "KeyboardInterrupt",
     "evalue": "",
     "output_type": "error",
     "traceback": [
      "\u001b[0;31m---------------------------------------------------------------------------\u001b[0m",
      "\u001b[0;31mKeyboardInterrupt\u001b[0m                         Traceback (most recent call last)",
      "Cell \u001b[0;32mIn[4], line 10\u001b[0m\n\u001b[1;32m      7\u001b[0m c\u001b[38;5;241m.\u001b[39msubscribe([\u001b[38;5;124m'\u001b[39m\u001b[38;5;124mmy-topic\u001b[39m\u001b[38;5;124m'\u001b[39m])\n\u001b[1;32m      9\u001b[0m \u001b[38;5;28;01mwhile\u001b[39;00m \u001b[38;5;28;01mTrue\u001b[39;00m:\n\u001b[0;32m---> 10\u001b[0m     msg \u001b[38;5;241m=\u001b[39m \u001b[43mc\u001b[49m\u001b[38;5;241;43m.\u001b[39;49m\u001b[43mpoll\u001b[49m\u001b[43m(\u001b[49m\u001b[38;5;241;43m5.0\u001b[39;49m\u001b[43m)\u001b[49m\n\u001b[1;32m     11\u001b[0m     \u001b[38;5;28;01mif\u001b[39;00m msg \u001b[38;5;129;01mis\u001b[39;00m \u001b[38;5;28;01mNone\u001b[39;00m:\n\u001b[1;32m     12\u001b[0m         \u001b[38;5;28;01mcontinue\u001b[39;00m\n",
      "\u001b[0;31mKeyboardInterrupt\u001b[0m: "
     ]
    }
   ],
   "source": [
    "c = Consumer({\n",
    "    'bootstrap.servers': 'kafka-1:29092,kafka-2:29093,kafka-3:29094',\n",
    "    'group.id': 'mygroup',\n",
    "    'auto.offset.reset': 'earliest'\n",
    "})\n",
    "\n",
    "c.subscribe(['my-topic'])\n",
    "\n",
    "while True:\n",
    "    msg = c.poll(5.0)\n",
    "    if msg is None:\n",
    "        continue\n",
    "    if msg.error():\n",
    "        if msg.error().code() == KafkaError._PARTITION_EOF:\n",
    "            continue\n",
    "        else:\n",
    "            print(msg.error())\n",
    "            break\n",
    "\n",
    "    event = protobuf_deserializer(msg.value(), SerializationContext(msg.topic(), MessageField.VALUE))\n",
    "    \n",
    "    original_value = event.value\n",
    "    is_prime_number = is_prime(original_value)\n",
    "\n",
    "    print(f'Received event with timestamp: {event.timestamp}')\n",
    "    print(f'Prime Checker Consumer - Original: {original_value}, Is it Prime?: {is_prime_number}\\n')\n",
    "\n",
    "c.close()"
   ]
  },
  {
   "cell_type": "code",
   "execution_count": null,
   "id": "77b2fd8e-d747-4fa7-ac6f-03e883157439",
   "metadata": {},
   "outputs": [],
   "source": []
  }
 ],
 "metadata": {
  "kernelspec": {
   "display_name": "Python 3 (ipykernel)",
   "language": "python",
   "name": "python3"
  },
  "language_info": {
   "codemirror_mode": {
    "name": "ipython",
    "version": 3
   },
   "file_extension": ".py",
   "mimetype": "text/x-python",
   "name": "python",
   "nbconvert_exporter": "python",
   "pygments_lexer": "ipython3",
   "version": "3.11.6"
  }
 },
 "nbformat": 4,
 "nbformat_minor": 5
}
