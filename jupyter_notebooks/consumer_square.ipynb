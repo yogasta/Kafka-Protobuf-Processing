{
 "cells": [
  {
   "cell_type": "code",
   "execution_count": 1,
   "id": "f04dec50-c34b-41ee-aa8c-27fe86314e04",
   "metadata": {},
   "outputs": [],
   "source": [
    "from confluent_kafka import Consumer, KafkaError\n",
    "from confluent_kafka.schema_registry import SchemaRegistryClient\n",
    "from confluent_kafka.schema_registry.protobuf import ProtobufDeserializer\n",
    "from confluent_kafka.serialization import SerializationContext, MessageField\n",
    "import my_event_pb2"
   ]
  },
  {
   "cell_type": "code",
   "execution_count": 2,
   "id": "84dcdab9-2012-4a71-99a4-565cfe431081",
   "metadata": {},
   "outputs": [],
   "source": [
    "def calculate_square(value):\n",
    "    return value * value"
   ]
  },
  {
   "cell_type": "code",
   "execution_count": 3,
   "id": "dda95cb2-fb61-41b4-8e21-ea05aed97390",
   "metadata": {},
   "outputs": [
    {
     "name": "stderr",
     "output_type": "stream",
     "text": [
      "/opt/conda/lib/python3.11/site-packages/confluent_kafka/schema_registry/protobuf.py:513: UserWarning: MessageFactory class is deprecated. Please use GetMessageClass() instead of MessageFactory.GetPrototype. MessageFactory class will be removed after 2024.\n",
      "  self._msg_class = MessageFactory().GetPrototype(descriptor)\n"
     ]
    }
   ],
   "source": [
    "schema_registry_conf = {'url': 'http://schema-registry:8081'}\n",
    "schema_registry_client = SchemaRegistryClient(schema_registry_conf)\n",
    "\n",
    "deserializer_conf = {'use.deprecated.format': False}\n",
    "protobuf_deserializer = ProtobufDeserializer(my_event_pb2.MyEvent, deserializer_conf)"
   ]
  },
  {
   "cell_type": "code",
   "execution_count": 4,
   "id": "b15c0e87-6261-483b-9b03-bc2e3fe25330",
   "metadata": {},
   "outputs": [],
   "source": [
    "c = Consumer({\n",
    "    'bootstrap.servers': 'kafka-1:29092,kafka-2:29093,kafka-3:29094',\n",
    "    'group.id': 'mygroup',\n",
    "    'auto.offset.reset': 'earliest'\n",
    "})\n",
    "\n",
    "c.subscribe(['my-topic'])"
   ]
  },
  {
   "cell_type": "code",
   "execution_count": 5,
   "id": "4f828f44-467c-49c4-9746-df9626496b1f",
   "metadata": {},
   "outputs": [
    {
     "name": "stdout",
     "output_type": "stream",
     "text": [
      "Received event with timestamp: 1725445691\n",
      "Square Calculator Consumer - Original: 56, Square: 3136\n",
      "\n",
      "Received event with timestamp: 1725445701\n",
      "Square Calculator Consumer - Original: 51, Square: 2601\n",
      "\n",
      "Received event with timestamp: 1725445716\n",
      "Square Calculator Consumer - Original: 74, Square: 5476\n",
      "\n",
      "Received event with timestamp: 1725445706\n",
      "Square Calculator Consumer - Original: 46, Square: 2116\n",
      "\n",
      "Received event with timestamp: 1725445711\n",
      "Square Calculator Consumer - Original: 64, Square: 4096\n",
      "\n",
      "Received event with timestamp: 1725445721\n",
      "Square Calculator Consumer - Original: 75, Square: 5625\n",
      "\n",
      "Received event with timestamp: 1725445746\n",
      "Square Calculator Consumer - Original: 92, Square: 8464\n",
      "\n",
      "Received event with timestamp: 1725445751\n",
      "Square Calculator Consumer - Original: 65, Square: 4225\n",
      "\n",
      "Received event with timestamp: 1725445756\n",
      "Square Calculator Consumer - Original: 60, Square: 3600\n",
      "\n",
      "Received event with timestamp: 1725445761\n",
      "Square Calculator Consumer - Original: 78, Square: 6084\n",
      "\n",
      "Received event with timestamp: 1725445776\n",
      "Square Calculator Consumer - Original: 2, Square: 4\n",
      "\n",
      "Received event with timestamp: 1725445781\n",
      "Square Calculator Consumer - Original: 81, Square: 6561\n",
      "\n"
     ]
    },
    {
     "ename": "KeyboardInterrupt",
     "evalue": "",
     "output_type": "error",
     "traceback": [
      "\u001b[0;31m---------------------------------------------------------------------------\u001b[0m",
      "\u001b[0;31mKeyboardInterrupt\u001b[0m                         Traceback (most recent call last)",
      "Cell \u001b[0;32mIn[5], line 2\u001b[0m\n\u001b[1;32m      1\u001b[0m \u001b[38;5;28;01mwhile\u001b[39;00m \u001b[38;5;28;01mTrue\u001b[39;00m:\n\u001b[0;32m----> 2\u001b[0m     msg \u001b[38;5;241m=\u001b[39m \u001b[43mc\u001b[49m\u001b[38;5;241;43m.\u001b[39;49m\u001b[43mpoll\u001b[49m\u001b[43m(\u001b[49m\u001b[38;5;241;43m5.0\u001b[39;49m\u001b[43m)\u001b[49m\n\u001b[1;32m      4\u001b[0m     \u001b[38;5;28;01mif\u001b[39;00m msg \u001b[38;5;129;01mis\u001b[39;00m \u001b[38;5;28;01mNone\u001b[39;00m:\n\u001b[1;32m      5\u001b[0m         \u001b[38;5;28;01mcontinue\u001b[39;00m\n",
      "\u001b[0;31mKeyboardInterrupt\u001b[0m: "
     ]
    }
   ],
   "source": [
    "while True:\n",
    "    msg = c.poll(5.0)\n",
    "\n",
    "    if msg is None:\n",
    "        continue\n",
    "    if msg.error():\n",
    "        if msg.error().code() == KafkaError._PARTITION_EOF:\n",
    "            continue\n",
    "        else:\n",
    "            print(msg.error())\n",
    "            break\n",
    "\n",
    "    event = protobuf_deserializer(msg.value(), SerializationContext(msg.topic(), MessageField.VALUE))\n",
    "    \n",
    "    square = event.value * event.value\n",
    "    print(f'Received event with timestamp: {event.timestamp.seconds}')\n",
    "    print(f'Square Calculator Consumer - Original: {event.value}, Square: {square}\\n')\n",
    "\n",
    "c.close()"
   ]
  },
  {
   "cell_type": "code",
   "execution_count": null,
   "id": "1ea2f95e-93ea-45bb-90e1-2ea102e8dfc7",
   "metadata": {},
   "outputs": [],
   "source": []
  }
 ],
 "metadata": {
  "kernelspec": {
   "display_name": "Python 3 (ipykernel)",
   "language": "python",
   "name": "python3"
  },
  "language_info": {
   "codemirror_mode": {
    "name": "ipython",
    "version": 3
   },
   "file_extension": ".py",
   "mimetype": "text/x-python",
   "name": "python",
   "nbconvert_exporter": "python",
   "pygments_lexer": "ipython3",
   "version": "3.11.6"
  }
 },
 "nbformat": 4,
 "nbformat_minor": 5
}
